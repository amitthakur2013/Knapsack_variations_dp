{
  "nbformat": 4,
  "nbformat_minor": 0,
  "metadata": {
    "colab": {
      "name": "DP_Problems_Knapsack_variations.ipynb",
      "provenance": [],
      "collapsed_sections": [],
      "authorship_tag": "ABX9TyMWtFRYagZHyuHDO+HssiZf",
      "include_colab_link": true
    },
    "kernelspec": {
      "name": "python3",
      "display_name": "Python 3"
    }
  },
  "cells": [
    {
      "cell_type": "markdown",
      "metadata": {
        "id": "view-in-github",
        "colab_type": "text"
      },
      "source": [
        "<a href=\"https://colab.research.google.com/github/amitthakur2013/Knapsack_variations_dp/blob/master/DP_Problems_Knapsack_variations.ipynb\" target=\"_parent\"><img src=\"https://colab.research.google.com/assets/colab-badge.svg\" alt=\"Open In Colab\"/></a>"
      ]
    },
    {
      "cell_type": "markdown",
      "metadata": {
        "id": "ho1NZ_DvyYHF",
        "colab_type": "text"
      },
      "source": [
        "Dp is enhanced recursion."
      ]
    },
    {
      "cell_type": "markdown",
      "metadata": {
        "id": "Cmsen3LRVgKw",
        "colab_type": "text"
      },
      "source": [
        "1.) 0-1 Knapsack problem ( Recursive approach )"
      ]
    },
    {
      "cell_type": "code",
      "metadata": {
        "id": "e1FR-UdSpGGf",
        "colab_type": "code",
        "colab": {}
      },
      "source": [
        "def knapsack(wt,val,W,n,dp):\n",
        "  if n==0 or W==0:\n",
        "    return 0\n",
        "  if dp[n][W] != -1 :\n",
        "    return dp[n][W]\n",
        "  if wt[n-1]<=W:\n",
        "    dp[n][W]= max(val[n-1] + knapsack(wt,val,W-wt[n-1],n-1,dp),knapsack(wt,val,W,n-1,dp))\n",
        "    return dp[n][W]\n",
        "  else:\n",
        "    dp[n][W]=knapsack(wt,val,W,n-1,dp) \n",
        "    return dp[n][w]"
      ],
      "execution_count": 14,
      "outputs": []
    },
    {
      "cell_type": "code",
      "metadata": {
        "id": "-dkvTZxpXWws",
        "colab_type": "code",
        "colab": {
          "base_uri": "https://localhost:8080/",
          "height": 85
        },
        "outputId": "abfbbfc1-d356-44a5-a522-1d7e3236c427"
      },
      "source": [
        "wt=list(map(int,input().split()))\n",
        "val=list(map(int,input().split()))\n",
        "W=int(input())\n",
        "n=len(wt)\n",
        "dp=[[-1 for _ in range(W+1)] for __ in range(n+1)]\n",
        "print(knapsack(wt,val,W,n,dp))"
      ],
      "execution_count": 15,
      "outputs": [
        {
          "output_type": "stream",
          "text": [
            "10 20 30\n",
            "60 100 120\n",
            "50\n",
            "220\n"
          ],
          "name": "stdout"
        }
      ]
    },
    {
      "cell_type": "markdown",
      "metadata": {
        "id": "rbjqcGA1lcnA",
        "colab_type": "text"
      },
      "source": [
        "Knapsack (Bottom up approach memoization)"
      ]
    },
    {
      "cell_type": "code",
      "metadata": {
        "id": "lIBfdiU8X0B7",
        "colab_type": "code",
        "colab": {
          "base_uri": "https://localhost:8080/",
          "height": 85
        },
        "outputId": "d16c1614-14a8-4585-dd7c-15bb672224d7"
      },
      "source": [
        "wt=list(map(int,input().split()))\n",
        "val=list(map(int,input().split()))\n",
        "W=int(input())\n",
        "n=len(wt)\n",
        "dp=[[0 for _ in range(W+1)] for __ in range(n+1)]\n",
        "for i in range(1,n+1):\n",
        "  for j in range(1,W+1):\n",
        "    if wt[i-1]<= j:\n",
        "      dp[i][j]=max(val[i-1]+dp[i-1][j-wt[i-1]],dp[i-1][j])\n",
        "    else:\n",
        "      dp[i][j]=dp[i-1][j]\n",
        "print(dp[n][W])"
      ],
      "execution_count": 16,
      "outputs": [
        {
          "output_type": "stream",
          "text": [
            "10 20 30\n",
            "60 100 120\n",
            "50\n",
            "220\n"
          ],
          "name": "stdout"
        }
      ]
    },
    {
      "cell_type": "code",
      "metadata": {
        "id": "TPwLHFzG0rcQ",
        "colab_type": "code",
        "colab": {}
      },
      "source": [
        "\n",
        "def lenOfLongIncSubArr(arr, n) : \n",
        "    m = 1 \n",
        "    l = 1  \n",
        "    for i in range(1, n) : \n",
        "        if (arr[i] - arr[i-1]>0) : \n",
        "            l =l + 1 \n",
        "        else :  \n",
        "            if (m < l)  : \n",
        "                m = l       \n",
        "            l = 1 \n",
        "    if (m < l) : \n",
        "        m = l \n",
        "    return m "
      ],
      "execution_count": 40,
      "outputs": []
    },
    {
      "cell_type": "code",
      "metadata": {
        "id": "4oI-AUl8lOn9",
        "colab_type": "code",
        "colab": {}
      },
      "source": [
        "n=int(input())\n",
        "s=list(input())\n",
        "s=list(map(lambda x:int(x),s))\n",
        "for ind,val in enumerate(s):\n",
        "    if val==0:\n",
        "        s[ind]=1\n",
        "    else:\n",
        "        s[ind]=-1\n",
        "#Calculte prefix sum\n",
        "prefix=[0 for _ in range(n+1)]\n",
        "for i in range(1,n+1):\n",
        "  prefix[i]=prefix[i-1]+s[i-1]\n",
        "\n",
        "prefix=prefix[1:]\n",
        "print(lenOfLongIncSubArr(prefix, n))\n"
      ],
      "execution_count": null,
      "outputs": []
    },
    {
      "cell_type": "markdown",
      "metadata": {
        "id": "zRVC73zwiB2O",
        "colab_type": "text"
      },
      "source": [
        "Subset sum problem RECURSION"
      ]
    },
    {
      "cell_type": "code",
      "metadata": {
        "id": "__q1O0O74yqB",
        "colab_type": "code",
        "colab": {
          "base_uri": "https://localhost:8080/",
          "height": 85
        },
        "outputId": "242a9180-b02f-44b4-8293-1f27f8cec34b"
      },
      "source": [
        "def subset(arr,W,n):\n",
        "  if W==0:\n",
        "    return True\n",
        "  if n==0 and W!=0:\n",
        "    return False\n",
        "  if arr[n-1] <= W:\n",
        "    return subset(arr,W-arr[n-1],n-1) or subset(arr,W,n-1)\n",
        "  else:\n",
        "    return subset(arr,W,n-1)\n",
        "\n",
        "n=int(input())\n",
        "W=int(input())\n",
        "arr=list(map(int,input().split()))\n",
        "print(subset(arr,W,n))"
      ],
      "execution_count": 9,
      "outputs": [
        {
          "output_type": "stream",
          "text": [
            "3\n",
            "0\n",
            "5 2 3\n",
            "True\n"
          ],
          "name": "stdout"
        }
      ]
    },
    {
      "cell_type": "markdown",
      "metadata": {
        "id": "BkmrCZZ1tZLa",
        "colab_type": "text"
      },
      "source": [
        "Subset sum Bottom up approach:-"
      ]
    },
    {
      "cell_type": "code",
      "metadata": {
        "id": "FiDje3I6pjUX",
        "colab_type": "code",
        "colab": {
          "base_uri": "https://localhost:8080/",
          "height": 85
        },
        "outputId": "1e949711-aaf0-4927-cdf6-e88c0e639d13"
      },
      "source": [
        "n=int(input())\n",
        "W=int(input())\n",
        "arr=list(map(int,input().split()))\n",
        "dp=[[False for _ in range(W+1)] for __ in range(n+1)]\n",
        "\n",
        "for i in range(n+1):\n",
        "  dp[i][0]=True\n",
        "\n",
        "for i in range(1,n+1):\n",
        "  for j in range(1,W+1):\n",
        "    if arr[i-1]<=j:\n",
        "      dp[i][j]=dp[i-1][j-arr[i-1]] or dp[i-1][j]\n",
        "    else:\n",
        "      dp[i][j]=dp[i-1][j]\n",
        "print(dp[n][W])"
      ],
      "execution_count": 13,
      "outputs": [
        {
          "output_type": "stream",
          "text": [
            "4\n",
            "12\n",
            "2 3 8 5\n",
            "False\n"
          ],
          "name": "stdout"
        }
      ]
    },
    {
      "cell_type": "markdown",
      "metadata": {
        "id": "3AYUBlmayYk0",
        "colab_type": "text"
      },
      "source": [
        "Equal Partition Problem:-"
      ]
    },
    {
      "cell_type": "code",
      "metadata": {
        "id": "Ja-pbdbNuWdo",
        "colab_type": "code",
        "colab": {
          "base_uri": "https://localhost:8080/",
          "height": 68
        },
        "outputId": "46313c62-978b-483a-fd93-228e0603e2db"
      },
      "source": [
        "def subset_sum(arr,W,n):\n",
        "  dp=[[False for _ in range(W+1)] for __ in range(n+1)]\n",
        "\n",
        "  for i in range(n+1):\n",
        "    dp[i][0]=True\n",
        "\n",
        "  for i in range(1,n+1):\n",
        "    for j in range(1,W+1):\n",
        "      if arr[i-1]<=j:\n",
        "        dp[i][j]=dp[i-1][j-arr[i-1]] or dp[i-1][j]\n",
        "      else:\n",
        "        dp[i][j]=dp[i-1][j]\n",
        "  return (dp[n][W])\n",
        "\n",
        "n=int(input())\n",
        "arr=list(map(int,input().split()))\n",
        "if sum(arr) % 2 != 0:\n",
        "  print(False)\n",
        "else:\n",
        "  print(subset_sum(arr,sum(arr) // 2,n))"
      ],
      "execution_count": 16,
      "outputs": [
        {
          "output_type": "stream",
          "text": [
            "3\n",
            "2 5 7\n",
            "True\n"
          ],
          "name": "stdout"
        }
      ]
    },
    {
      "cell_type": "markdown",
      "metadata": {
        "id": "N4NxbZ1o1tmD",
        "colab_type": "text"
      },
      "source": [
        "Count of Subset Sum:-"
      ]
    },
    {
      "cell_type": "code",
      "metadata": {
        "id": "QL8SUoGmzm39",
        "colab_type": "code",
        "colab": {
          "base_uri": "https://localhost:8080/",
          "height": 85
        },
        "outputId": "eba8e4d2-7295-4ee8-c835-9c34a60ced97"
      },
      "source": [
        "def count_subset(arr,W,n,dp):\n",
        "\n",
        "  if W==0:\n",
        "    return 1\n",
        "\n",
        "  if n==0 and W!=0:\n",
        "    return 0\n",
        "\n",
        "  if dp[n][W]!=-1:\n",
        "    return dp[n][W]\n",
        "  \n",
        "  if arr[n-1] <= W :\n",
        "    dp[n][W]=count_subset(arr,W-arr[n-1],n-1,dp) + count_subset(arr,W,n-1,dp)\n",
        "    return dp[n][W]\n",
        "  else:\n",
        "    dp[n][W]=count_subset(arr, W, n-1,dp)\n",
        "    return dp[n][W]\n",
        "\n",
        "n=int(input())\n",
        "W=int(input())\n",
        "arr=list(map(int,input().split()))\n",
        "dp=[[-1 for _ in range(W+1)] for __ in range(n+1)]\n",
        "print(count_subset(arr,W,n,dp))"
      ],
      "execution_count": 22,
      "outputs": [
        {
          "output_type": "stream",
          "text": [
            "4\n",
            "11\n",
            "4 9 10 13\n",
            "0\n"
          ],
          "name": "stdout"
        }
      ]
    },
    {
      "cell_type": "markdown",
      "metadata": {
        "id": "EGV179o1-QeI",
        "colab_type": "text"
      },
      "source": [
        "Bottom up approach :-"
      ]
    },
    {
      "cell_type": "code",
      "metadata": {
        "id": "-r4VQXM437Re",
        "colab_type": "code",
        "colab": {
          "base_uri": "https://localhost:8080/",
          "height": 85
        },
        "outputId": "5d42e252-cca4-4406-cd5a-f1b7258a19b9"
      },
      "source": [
        "n=int(input())\n",
        "W=int(input())\n",
        "arr=list(map(int,input().split()))\n",
        "dp=[[0 for _ in range(W+1)] for __ in range(n+1)]\n",
        "\n",
        "for i in range(n+1):\n",
        "  dp[i][0]=1\n",
        "\n",
        "for i in range(1,n+1):\n",
        "  for j in range(1,W+1):\n",
        "    if arr[i-1]<=j:\n",
        "      dp[i][j]=dp[i-1][j-arr[i-1]]+dp[i-1][j] \n",
        "    else:\n",
        "      dp[i][j]=dp[i-1][j]\n",
        "print(dp[n][W])"
      ],
      "execution_count": 26,
      "outputs": [
        {
          "output_type": "stream",
          "text": [
            "4\n",
            "11\n",
            "3 5 6 8\n",
            "2\n"
          ],
          "name": "stdout"
        }
      ]
    },
    {
      "cell_type": "markdown",
      "metadata": {
        "id": "toazIwuuB7tW",
        "colab_type": "text"
      },
      "source": [
        "Count the number of subsets with given difference:-"
      ]
    },
    {
      "cell_type": "code",
      "metadata": {
        "id": "Vx2Qpzhp_fZT",
        "colab_type": "code",
        "colab": {}
      },
      "source": [
        "n=int(input())\n",
        "diff=int(input())\n",
        "arr=list(map(int,input().split()))\n",
        "W=(sum(arr)-diff)//2\n",
        "dp=[[0 for _ in range(W+1)] for __ in range(n+1)]\n",
        "\n",
        "for i in range(n+1):\n",
        "  dp[i][0]=1\n",
        "\n",
        "for i in range(1,n+1):\n",
        "  for j in range(1,W+1):\n",
        "    if arr[i-1]<=j:\n",
        "      dp[i][j]=dp[i-1][j-arr[i-1]]+dp[i-1][j] \n",
        "    else:\n",
        "      dp[i][j]=dp[i-1][j]\n",
        "print(dp[n][W])"
      ],
      "execution_count": null,
      "outputs": []
    },
    {
      "cell_type": "markdown",
      "metadata": {
        "id": "HT8SwDw8G1dT",
        "colab_type": "text"
      },
      "source": [
        "#Rod cutting problem(Unbounded Knapsack)"
      ]
    },
    {
      "cell_type": "code",
      "metadata": {
        "id": "_bnfIJztG1zr",
        "colab_type": "code",
        "colab": {}
      },
      "source": [
        ""
      ],
      "execution_count": null,
      "outputs": []
    }
  ]
}