{
  "nbformat": 4,
  "nbformat_minor": 0,
  "metadata": {
    "colab": {
      "name": "DP_Unbounded_Knapsack.ipynb",
      "provenance": [],
      "collapsed_sections": [],
      "authorship_tag": "ABX9TyMAgeaOQEM92gRUVcCUC2km",
      "include_colab_link": true
    },
    "kernelspec": {
      "name": "python3",
      "display_name": "Python 3"
    }
  },
  "cells": [
    {
      "cell_type": "markdown",
      "metadata": {
        "id": "view-in-github",
        "colab_type": "text"
      },
      "source": [
        "<a href=\"https://colab.research.google.com/github/amitthakur2013/Knapsack_variations_dp/blob/master/DP_Unbounded_Knapsack.ipynb\" target=\"_parent\"><img src=\"https://colab.research.google.com/assets/colab-badge.svg\" alt=\"Open In Colab\"/></a>"
      ]
    },
    {
      "cell_type": "markdown",
      "metadata": {
        "id": "RmXV9MjDqd3Q",
        "colab_type": "text"
      },
      "source": [
        "Rod cutting problem"
      ]
    },
    {
      "cell_type": "code",
      "metadata": {
        "id": "UCdPnrXr73EN",
        "colab_type": "code",
        "colab": {
          "base_uri": "https://localhost:8080/",
          "height": 102
        },
        "outputId": "9c6bfb83-56fe-4e13-b2ea-892636af4da4"
      },
      "source": [
        "n=int(input())\n",
        "length=list(map(int,input().split()))\n",
        "price=list(map(int,input().split()))\n",
        "L=int(input())\n",
        "dp=[[0 for _ in range(L+1)]for __ in range(n+1)]\n",
        "for i in range(1,n+1):\n",
        "  for j in range(1,L+1):\n",
        "    if length[i-1]<= j:\n",
        "      dp[i][j]=max(price[i-1]+dp[i][j-length[i-1]],dp[i-1][j])\n",
        "    else:\n",
        "      dp[i][j]=dp[i-1][j]\n",
        "print(dp[n][L]) "
      ],
      "execution_count": 5,
      "outputs": [
        {
          "output_type": "stream",
          "text": [
            "8\n",
            "1 2 3 4 5 6 7 8\n",
            "1 5 8 9 10 17 17 20\n",
            "8\n",
            "22\n"
          ],
          "name": "stdout"
        }
      ]
    },
    {
      "cell_type": "code",
      "metadata": {
        "id": "YT2zSy0xtyE8",
        "colab_type": "code",
        "colab": {}
      },
      "source": [
        ""
      ],
      "execution_count": null,
      "outputs": []
    }
  ]
}